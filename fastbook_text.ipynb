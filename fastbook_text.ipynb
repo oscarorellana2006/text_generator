{
 "cells": [
  {
   "cell_type": "code",
   "execution_count": 1,
   "metadata": {
    "id": "sjByADqNODob"
   },
   "outputs": [],
   "source": [
    "# from fastbook import *\n",
    "from fastai.text.all import *\n",
    "from IPython.display import display,HTML"
   ]
  },
  {
   "cell_type": "code",
   "execution_count": 2,
   "metadata": {
    "id": "yJOgQ1yROIGc"
   },
   "outputs": [],
   "source": [
    "from pathlib import Path\n",
    "\n",
    "path = Path(\".\")\n",
    "learn_inf = load_learner(path/'lesson10_export.pkl')"
   ]
  },
  {
   "cell_type": "code",
   "execution_count": 3,
   "metadata": {
    "id": "xuGFa6bAOQJb"
   },
   "outputs": [
    {
     "name": "stdout",
     "output_type": "stream",
     "text": [
      "2.6.3\n"
     ]
    }
   ],
   "source": [
    "import fastai\n",
    "from fastai.vision.all import *\n",
    "from fastai.vision.widgets import *\n",
    "from fastdownload import download_url\n",
    "\n",
    "print(fastai.__version__)"
   ]
  },
  {
   "cell_type": "code",
   "execution_count": 4,
   "metadata": {
    "id": "uyK1_CX-OTlp"
   },
   "outputs": [
    {
     "data": {
      "application/vnd.jupyter.widget-view+json": {
       "model_id": "324612143a6f40f4af1817005ba69428",
       "version_major": 2,
       "version_minor": 0
      },
      "text/plain": [
       "VBox(children=(Label(value='Type Something!'), Text(value=' ', description='User input:', placeholder='Type so…"
      ]
     },
     "metadata": {},
     "output_type": "display_data"
    }
   ],
   "source": [
    "def on_click_generate(change):\n",
    "    out_pl.value = \"... working ...\"\n",
    "\n",
    "    # Calling the model\n",
    "    TEXT = user_text.value\n",
    "    N_WORDS = 100\n",
    "    preds = learn_inf.predict(TEXT, N_WORDS, temperature=0.75) \n",
    "    \n",
    "    # Keep 3 sentences at most\n",
    "    sentences = \".\".join(preds.split(\".\")[:5])\n",
    "    \n",
    "    out_pl.value = sentences\n",
    "    # Putting back btn_upload to a widget for next cell\n",
    "\n",
    "user_text = widgets.Text(\n",
    "    value=' ',\n",
    "    placeholder='Type something',\n",
    "    description='User input:',\n",
    "    disabled=False\n",
    ")\n",
    "\n",
    "btn_run = widgets.Button(description='Generate')\n",
    "btn_run.on_click(on_click_generate)\n",
    "\n",
    "lbl_pred = widgets.Label()\n",
    "# lbl_pred.value = f'Prediction: {pred}; Probability: {probs[pred_idx]:.04f}'\n",
    "\n",
    "out_pl = widgets.Textarea(layout={'height': '250px', 'width': '500px'})\n",
    "out_pl.value = \"\"\n",
    "\n",
    "VBox(\n",
    "    [\n",
    "     widgets.Label('Type Something!'), \n",
    "     user_text, \n",
    "     btn_run, \n",
    "     out_pl, \n",
    "     lbl_pred\n",
    "     ]\n",
    "     )"
   ]
  },
  {
   "cell_type": "code",
   "execution_count": null,
   "metadata": {},
   "outputs": [],
   "source": []
  }
 ],
 "metadata": {
  "accelerator": "GPU",
  "colab": {
   "collapsed_sections": [],
   "name": "fastbook.2",
   "provenance": []
  },
  "kernelspec": {
   "display_name": "Python [conda env:text-generator]",
   "language": "python",
   "name": "conda-env-text-generator-py"
  },
  "language_info": {
   "codemirror_mode": {
    "name": "ipython",
    "version": 3
   },
   "file_extension": ".py",
   "mimetype": "text/x-python",
   "name": "python",
   "nbconvert_exporter": "python",
   "pygments_lexer": "ipython3",
   "version": "3.8.13"
  },
  "widgets": {
   "application/vnd.jupyter.widget-state+json": {
    "state": {
     "1da4588d5c054db58b30d01406f61054": {
      "model_module": "@jupyter-widgets/base",
      "model_module_version": "1.2.0",
      "model_name": "LayoutModel",
      "state": {}
     },
     "324612143a6f40f4af1817005ba69428": {
      "model_module": "@jupyter-widgets/controls",
      "model_module_version": "1.5.0",
      "model_name": "VBoxModel",
      "state": {
       "children": [
        "IPY_MODEL_dc6efafc978d4a8daf3eb9bd19fb04f4",
        "IPY_MODEL_dbbc1bbe0a9044a8a9e5501f72a49495",
        "IPY_MODEL_c04ba5a2d35a47d38a8dce4efb89be6e",
        "IPY_MODEL_b434d4d721df49f8a193a83225ed313b",
        "IPY_MODEL_6283200cb55641ccadbbb52da4b2ac78"
       ],
       "layout": "IPY_MODEL_1da4588d5c054db58b30d01406f61054"
      }
     },
     "5a9e3e2255574d54a4ba2f11b7e669aa": {
      "model_module": "@jupyter-widgets/base",
      "model_module_version": "1.2.0",
      "model_name": "LayoutModel",
      "state": {}
     },
     "611e46c54186473aa9853134060427be": {
      "model_module": "@jupyter-widgets/controls",
      "model_module_version": "1.5.0",
      "model_name": "DescriptionStyleModel",
      "state": {
       "description_width": ""
      }
     },
     "6283200cb55641ccadbbb52da4b2ac78": {
      "model_module": "@jupyter-widgets/controls",
      "model_module_version": "1.5.0",
      "model_name": "LabelModel",
      "state": {
       "layout": "IPY_MODEL_dc1a90848f904d3f95c0eb0bd4043a81",
       "style": "IPY_MODEL_d3e55629de2a48959c4171a73c6707a7"
      }
     },
     "723498bda8d44f0c903d12598e4c7355": {
      "model_module": "@jupyter-widgets/base",
      "model_module_version": "1.2.0",
      "model_name": "LayoutModel",
      "state": {}
     },
     "7d5937103c3740129f08599cd1246b6b": {
      "model_module": "@jupyter-widgets/base",
      "model_module_version": "1.2.0",
      "model_name": "LayoutModel",
      "state": {
       "height": "250px",
       "width": "500px"
      }
     },
     "91f404bccb6a4847bb445e53962fdb5d": {
      "model_module": "@jupyter-widgets/controls",
      "model_module_version": "1.5.0",
      "model_name": "DescriptionStyleModel",
      "state": {
       "description_width": ""
      }
     },
     "acfbba69708340dfb48a49637bb20717": {
      "model_module": "@jupyter-widgets/base",
      "model_module_version": "1.2.0",
      "model_name": "LayoutModel",
      "state": {}
     },
     "b1d0183bf30749adabcb1971787c6a33": {
      "model_module": "@jupyter-widgets/controls",
      "model_module_version": "1.5.0",
      "model_name": "DescriptionStyleModel",
      "state": {
       "description_width": ""
      }
     },
     "b434d4d721df49f8a193a83225ed313b": {
      "model_module": "@jupyter-widgets/controls",
      "model_module_version": "1.5.0",
      "model_name": "TextareaModel",
      "state": {
       "layout": "IPY_MODEL_7d5937103c3740129f08599cd1246b6b",
       "style": "IPY_MODEL_b1d0183bf30749adabcb1971787c6a33",
       "value": "Tom Cruise was great for his role in making Cruise . He is impressive in his role as a well - known Caribbean gangster , and for the most part his character 's great designs , keeping it from working class in the United States , go on to make a much better movie . He is well - known to his fans , and he has a bunch of good acting and supporting roles , but still proves to be one of the greatest performances ever . \n\n This is a pretty good movie ."
      }
     },
     "b8c2f57de78a419b8b39edaaf02c0099": {
      "model_module": "@jupyter-widgets/controls",
      "model_module_version": "1.5.0",
      "model_name": "ButtonStyleModel",
      "state": {}
     },
     "c04ba5a2d35a47d38a8dce4efb89be6e": {
      "model_module": "@jupyter-widgets/controls",
      "model_module_version": "1.5.0",
      "model_name": "ButtonModel",
      "state": {
       "description": "Generate",
       "layout": "IPY_MODEL_acfbba69708340dfb48a49637bb20717",
       "style": "IPY_MODEL_b8c2f57de78a419b8b39edaaf02c0099"
      }
     },
     "d3e55629de2a48959c4171a73c6707a7": {
      "model_module": "@jupyter-widgets/controls",
      "model_module_version": "1.5.0",
      "model_name": "DescriptionStyleModel",
      "state": {
       "description_width": ""
      }
     },
     "dbbc1bbe0a9044a8a9e5501f72a49495": {
      "model_module": "@jupyter-widgets/controls",
      "model_module_version": "1.5.0",
      "model_name": "TextModel",
      "state": {
       "description": "User input:",
       "layout": "IPY_MODEL_723498bda8d44f0c903d12598e4c7355",
       "placeholder": "Type something",
       "style": "IPY_MODEL_91f404bccb6a4847bb445e53962fdb5d",
       "value": " Tom Cruise was great"
      }
     },
     "dc1a90848f904d3f95c0eb0bd4043a81": {
      "model_module": "@jupyter-widgets/base",
      "model_module_version": "1.2.0",
      "model_name": "LayoutModel",
      "state": {}
     },
     "dc6efafc978d4a8daf3eb9bd19fb04f4": {
      "model_module": "@jupyter-widgets/controls",
      "model_module_version": "1.5.0",
      "model_name": "LabelModel",
      "state": {
       "layout": "IPY_MODEL_5a9e3e2255574d54a4ba2f11b7e669aa",
       "style": "IPY_MODEL_611e46c54186473aa9853134060427be",
       "value": "Type Something!"
      }
     }
    },
    "version_major": 2,
    "version_minor": 0
   }
  }
 },
 "nbformat": 4,
 "nbformat_minor": 4
}
