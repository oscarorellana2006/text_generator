{
  "nbformat": 4,
  "nbformat_minor": 0,
  "metadata": {
    "colab": {
      "name": "fastbook.2",
      "provenance": [],
      "collapsed_sections": []
    },
    "kernelspec": {
      "name": "python3",
      "display_name": "Python 3"
    },
    "language_info": {
      "name": "python"
    },
    "accelerator": "GPU"
  },
  "cells": [
    {
      "cell_type": "code",
      "source": [
        "!pip install -Uqq fastbook\n",
        "import fastbook\n",
        "fastbook.setup_book()"
      ],
      "metadata": {
        "id": "6N5o0TlSLtGG",
        "colab": {
          "base_uri": "https://localhost:8080/"
        },
        "outputId": "9fe8011b-9ffc-4566-a8fb-7a6965236e6b"
      },
      "execution_count": 1,
      "outputs": [
        {
          "output_type": "stream",
          "name": "stdout",
          "text": [
            "Mounted at /content/gdrive\n"
          ]
        }
      ]
    },
    {
      "cell_type": "code",
      "source": [
        "from fastbook import *\n",
        "from IPython.display import display,HTML"
      ],
      "metadata": {
        "id": "sjByADqNODob"
      },
      "execution_count": null,
      "outputs": []
    },
    {
      "cell_type": "code",
      "source": [
        "from fastai.text.all import *\n",
        "path = untar_data(URLs.IMDB)"
      ],
      "metadata": {
        "id": "oGNzO50-OEuR"
      },
      "execution_count": null,
      "outputs": []
    },
    {
      "cell_type": "code",
      "source": [
        "from pathlib import Path\n",
        "\n",
        "path = Path(\".\")\n",
        "learn_inf = load_learner(path/'lesson10_export.pkl')"
      ],
      "metadata": {
        "id": "yJOgQ1yROIGc"
      },
      "execution_count": null,
      "outputs": []
    },
    {
      "cell_type": "code",
      "source": [
        "!pip3 install torch torchvision torchaudio\n",
        "!pip install \"fastai >= 2\""
      ],
      "metadata": {
        "id": "IF3yQxlkONFp"
      },
      "execution_count": null,
      "outputs": []
    },
    {
      "cell_type": "code",
      "source": [
        "import fastai\n",
        "from fastai.vision.all import *\n",
        "from fastai.vision.widgets import *\n",
        "from fastdownload import download_url\n",
        "\n",
        "print(fastai.__version__)"
      ],
      "metadata": {
        "id": "xuGFa6bAOQJb"
      },
      "execution_count": null,
      "outputs": []
    },
    {
      "cell_type": "code",
      "source": [
        "def on_click_generate(change):\n",
        "    out_pl.value = \"user\"\n",
        "\n",
        "    # Calling the model\n",
        "    TEXT = user_text.value\n",
        "    N_WORDS = 50\n",
        "    N_SENTENCES = 1\n",
        "    preds = learn_inf.predict(TEXT, N_WORDS, temperature=0.75) \n",
        "    out_pl.value = preds\n",
        "    # Putting back btn_upload to a widget for next cell\n",
        "user_text = widgets.Text(\n",
        "    value=' ',\n",
        "    placeholder='Type something',\n",
        "    description='Text:',\n",
        "    disabled=False\n",
        ")\n",
        "\n",
        "btn_run = widgets.Button(description='Generate')\n",
        "btn_run.on_click(on_click_generate)\n",
        "\n",
        "lbl_pred = widgets.Label()\n",
        "# lbl_pred.value = f'Prediction: {pred}; Probability: {probs[pred_idx]:.04f}'\n",
        "\n",
        "out_pl = widgets.Textarea(layout={'height': '250px', 'width': '500px'})\n",
        "out_pl.value = \"text\"\n",
        "\n",
        "VBox(\n",
        "    [\n",
        "     widgets.Label('Type Something!'), \n",
        "     user_text, \n",
        "     btn_run, \n",
        "     out_pl, \n",
        "     lbl_pred\n",
        "     ]\n",
        "     )"
      ],
      "metadata": {
        "id": "uyK1_CX-OTlp"
      },
      "execution_count": null,
      "outputs": []
    }
  ]
}